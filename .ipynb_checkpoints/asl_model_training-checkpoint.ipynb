{
 "cells": [
  {
   "cell_type": "code",
   "execution_count": 41,
   "id": "84a6ffd9-4351-4fa5-a23c-bcb69badec1d",
   "metadata": {},
   "outputs": [],
   "source": [
    "import tensorflow as tf\n",
    "from tensorflow.keras.preprocessing.image import ImageDataGenerator\n",
    "from tensorflow.keras.models import Sequential\n",
    "from tensorflow.keras.layers import Conv2D, MaxPooling2D, Flatten, Dense, Dropout\n",
    "from tensorflow.keras.optimizers import Adam\n",
    "from tensorflow.keras import Input\n",
    "import json\n",
    "import os"
   ]
  },
  {
   "cell_type": "raw",
   "id": "84d9ea98-d1f5-42f2-87d5-6b7479842d06",
   "metadata": {},
   "source": [
    "train_dir = \"asl_alphabet_train\""
   ]
  },
  {
   "cell_type": "code",
   "execution_count": 55,
   "id": "f5715337-c771-46da-8fd3-6f13f6406477",
   "metadata": {},
   "outputs": [
    {
     "name": "stdout",
     "output_type": "stream",
     "text": [
      "Found 69600 images belonging to 29 classes.\n",
      "Found 17400 images belonging to 29 classes.\n"
     ]
    }
   ],
   "source": [
    "datagen = ImageDataGenerator(\n",
    "    rescale=1./255, \n",
    "    validation_split=0.2\n",
    ")\n",
    "\n",
    "train_data = datagen.flow_from_directory(\n",
    "    train_dir, \n",
    "    target_size=(64, 64), \n",
    "    batch_size=64, \n",
    "    class_mode=\"categorical\", \n",
    "    subset=\"training\",\n",
    "    seed=123\n",
    ")\n",
    "\n",
    "val_data = datagen.flow_from_directory(\n",
    "    train_dir,\n",
    "    target_size=(64, 64),\n",
    "    batch_size=64,\n",
    "    class_mode=\"categorical\",\n",
    "    subset=\"validation\",\n",
    "    seed=123\n",
    ")"
   ]
  },
  {
   "cell_type": "code",
   "execution_count": 56,
   "id": "bc51d719-9050-405a-9ea3-6bc285332a4b",
   "metadata": {},
   "outputs": [],
   "source": [
    "model = Sequential([\n",
    "    Input(shape=(64,64,3)),\n",
    "    Conv2D(32, (3,3), activation=\"relu\"),\n",
    "    MaxPooling2D(2,2),\n",
    "    Conv2D(64, (3,3), activation=\"relu\"),\n",
    "    MaxPooling2D(2,2),\n",
    "    Flatten(),\n",
    "    Dense(128, activation=\"relu\"),\n",
    "    Dropout(0.5),\n",
    "    Dense(train_data.num_classes, activation=\"softmax\")\n",
    "])"
   ]
  },
  {
   "cell_type": "code",
   "execution_count": 57,
   "id": "bc916f79-0bd4-499e-8956-cbc8f13ba857",
   "metadata": {},
   "outputs": [],
   "source": [
    "model.compile(\n",
    "    optimizer=Adam(learning_rate=0.001),\n",
    "    loss=\"categorical_crossentropy\",\n",
    "    metrics=[\"accuracy\"]\n",
    ")"
   ]
  },
  {
   "cell_type": "code",
   "execution_count": 58,
   "id": "ce2d8d8b-354d-4ea9-9362-6f0bf1e2441a",
   "metadata": {},
   "outputs": [
    {
     "name": "stdout",
     "output_type": "stream",
     "text": [
      "Epoch 1/10\n",
      "\u001b[1m1088/1088\u001b[0m \u001b[32m━━━━━━━━━━━━━━━━━━━━\u001b[0m\u001b[37m\u001b[0m \u001b[1m53s\u001b[0m 49ms/step - accuracy: 0.5154 - loss: 1.5631 - val_accuracy: 0.6193 - val_loss: 1.1889\n",
      "Epoch 2/10\n",
      "\u001b[1m1088/1088\u001b[0m \u001b[32m━━━━━━━━━━━━━━━━━━━━\u001b[0m\u001b[37m\u001b[0m \u001b[1m58s\u001b[0m 53ms/step - accuracy: 0.7942 - loss: 0.5897 - val_accuracy: 0.7059 - val_loss: 0.9566\n",
      "Epoch 3/10\n",
      "\u001b[1m1088/1088\u001b[0m \u001b[32m━━━━━━━━━━━━━━━━━━━━\u001b[0m\u001b[37m\u001b[0m \u001b[1m60s\u001b[0m 55ms/step - accuracy: 0.8619 - loss: 0.3890 - val_accuracy: 0.7279 - val_loss: 0.8814\n",
      "Epoch 4/10\n",
      "\u001b[1m1088/1088\u001b[0m \u001b[32m━━━━━━━━━━━━━━━━━━━━\u001b[0m\u001b[37m\u001b[0m \u001b[1m61s\u001b[0m 56ms/step - accuracy: 0.8954 - loss: 0.2915 - val_accuracy: 0.7642 - val_loss: 0.7926\n",
      "Epoch 5/10\n",
      "\u001b[1m1088/1088\u001b[0m \u001b[32m━━━━━━━━━━━━━━━━━━━━\u001b[0m\u001b[37m\u001b[0m \u001b[1m61s\u001b[0m 56ms/step - accuracy: 0.9141 - loss: 0.2380 - val_accuracy: 0.7310 - val_loss: 0.9435\n",
      "Epoch 6/10\n",
      "\u001b[1m1088/1088\u001b[0m \u001b[32m━━━━━━━━━━━━━━━━━━━━\u001b[0m\u001b[37m\u001b[0m \u001b[1m62s\u001b[0m 57ms/step - accuracy: 0.9258 - loss: 0.2025 - val_accuracy: 0.7905 - val_loss: 0.8401\n",
      "Epoch 7/10\n",
      "\u001b[1m1088/1088\u001b[0m \u001b[32m━━━━━━━━━━━━━━━━━━━━\u001b[0m\u001b[37m\u001b[0m \u001b[1m62s\u001b[0m 57ms/step - accuracy: 0.9356 - loss: 0.1754 - val_accuracy: 0.7628 - val_loss: 1.0291\n",
      "Epoch 8/10\n",
      "\u001b[1m1088/1088\u001b[0m \u001b[32m━━━━━━━━━━━━━━━━━━━━\u001b[0m\u001b[37m\u001b[0m \u001b[1m63s\u001b[0m 58ms/step - accuracy: 0.9433 - loss: 0.1554 - val_accuracy: 0.7884 - val_loss: 0.8687\n",
      "Epoch 9/10\n",
      "\u001b[1m1088/1088\u001b[0m \u001b[32m━━━━━━━━━━━━━━━━━━━━\u001b[0m\u001b[37m\u001b[0m \u001b[1m63s\u001b[0m 58ms/step - accuracy: 0.9497 - loss: 0.1401 - val_accuracy: 0.7992 - val_loss: 0.8577\n",
      "Epoch 10/10\n",
      "\u001b[1m1088/1088\u001b[0m \u001b[32m━━━━━━━━━━━━━━━━━━━━\u001b[0m\u001b[37m\u001b[0m \u001b[1m63s\u001b[0m 58ms/step - accuracy: 0.9534 - loss: 0.1298 - val_accuracy: 0.7622 - val_loss: 1.0716\n"
     ]
    }
   ],
   "source": [
    "history = model.fit(\n",
    "    train_data,\n",
    "    validation_data=val_data,\n",
    "    epochs=10\n",
    ")"
   ]
  },
  {
   "cell_type": "code",
   "execution_count": 59,
   "id": "c85c99d0-3d32-4da6-abd7-d36d16a774a7",
   "metadata": {},
   "outputs": [
    {
     "name": "stdout",
     "output_type": "stream",
     "text": [
      "Train classes: {'A': 0, 'B': 1, 'C': 2, 'D': 3, 'E': 4, 'F': 5, 'G': 6, 'H': 7, 'I': 8, 'J': 9, 'K': 10, 'L': 11, 'M': 12, 'N': 13, 'O': 14, 'P': 15, 'Q': 16, 'R': 17, 'S': 18, 'T': 19, 'U': 20, 'V': 21, 'W': 22, 'X': 23, 'Y': 24, 'Z': 25, 'del': 26, 'nothing': 27, 'space': 28}\n",
      "Validation classes: {'A': 0, 'B': 1, 'C': 2, 'D': 3, 'E': 4, 'F': 5, 'G': 6, 'H': 7, 'I': 8, 'J': 9, 'K': 10, 'L': 11, 'M': 12, 'N': 13, 'O': 14, 'P': 15, 'Q': 16, 'R': 17, 'S': 18, 'T': 19, 'U': 20, 'V': 21, 'W': 22, 'X': 23, 'Y': 24, 'Z': 25, 'del': 26, 'nothing': 27, 'space': 28}\n",
      "Train samples: 69600\n",
      "Validation samples: 17400\n",
      "Number of classes (train): 29\n"
     ]
    }
   ],
   "source": [
    "print(\"Train classes:\", train_data.class_indices)\n",
    "print(\"Validation classes:\", val_data.class_indices)\n",
    "print(\"Train samples:\", train_data.samples)\n",
    "print(\"Validation samples:\", val_data.samples)\n",
    "print(\"Number of classes (train):\", train_data.num_classes)"
   ]
  },
  {
   "cell_type": "code",
   "execution_count": 60,
   "id": "f1faee8c-bfee-4e75-8fcd-c396dc504f6d",
   "metadata": {},
   "outputs": [
    {
     "name": "stdout",
     "output_type": "stream",
     "text": [
      "Train classes: {'A': 0, 'B': 1, 'C': 2, 'D': 3, 'E': 4, 'F': 5, 'G': 6, 'H': 7, 'I': 8, 'J': 9, 'K': 10, 'L': 11, 'M': 12, 'N': 13, 'O': 14, 'P': 15, 'Q': 16, 'R': 17, 'S': 18, 'T': 19, 'U': 20, 'V': 21, 'W': 22, 'X': 23, 'Y': 24, 'Z': 25, 'del': 26, 'nothing': 27, 'space': 28}\n",
      "Validation classes: {'A': 0, 'B': 1, 'C': 2, 'D': 3, 'E': 4, 'F': 5, 'G': 6, 'H': 7, 'I': 8, 'J': 9, 'K': 10, 'L': 11, 'M': 12, 'N': 13, 'O': 14, 'P': 15, 'Q': 16, 'R': 17, 'S': 18, 'T': 19, 'U': 20, 'V': 21, 'W': 22, 'X': 23, 'Y': 24, 'Z': 25, 'del': 26, 'nothing': 27, 'space': 28}\n",
      "Number of classes (train): 29\n"
     ]
    }
   ],
   "source": [
    "print(\"Train classes:\", train_data.class_indices)\n",
    "print(\"Validation classes:\", val_data.class_indices)\n",
    "print(\"Number of classes (train):\", train_data.num_classes)"
   ]
  },
  {
   "cell_type": "code",
   "execution_count": 61,
   "id": "a1ce8306-cd7b-4cf3-a602-00ff87d8199a",
   "metadata": {},
   "outputs": [
    {
     "name": "stdout",
     "output_type": "stream",
     "text": [
      "Train classes: {'A': 0, 'B': 1, 'C': 2, 'D': 3, 'E': 4, 'F': 5, 'G': 6, 'H': 7, 'I': 8, 'J': 9, 'K': 10, 'L': 11, 'M': 12, 'N': 13, 'O': 14, 'P': 15, 'Q': 16, 'R': 17, 'S': 18, 'T': 19, 'U': 20, 'V': 21, 'W': 22, 'X': 23, 'Y': 24, 'Z': 25, 'del': 26, 'nothing': 27, 'space': 28}\n",
      "Validation classes: {'A': 0, 'B': 1, 'C': 2, 'D': 3, 'E': 4, 'F': 5, 'G': 6, 'H': 7, 'I': 8, 'J': 9, 'K': 10, 'L': 11, 'M': 12, 'N': 13, 'O': 14, 'P': 15, 'Q': 16, 'R': 17, 'S': 18, 'T': 19, 'U': 20, 'V': 21, 'W': 22, 'X': 23, 'Y': 24, 'Z': 25, 'del': 26, 'nothing': 27, 'space': 28}\n",
      "Number of classes (train): 29\n"
     ]
    }
   ],
   "source": [
    "print(\"Train classes:\", train_data.class_indices)\n",
    "print(\"Validation classes:\", val_data.class_indices)\n",
    "print(\"Number of classes (train):\", train_data.num_classes)"
   ]
  },
  {
   "cell_type": "code",
   "execution_count": 62,
   "id": "050ec94b-686e-4a64-945e-85a5afd66f63",
   "metadata": {},
   "outputs": [
    {
     "name": "stdout",
     "output_type": "stream",
     "text": [
      "['.DS_Store', 'R', 'U', 'I', 'N', 'G', 'Z', 'T', 'S', 'A']\n"
     ]
    }
   ],
   "source": [
    "print(os.listdir(\"asl_alphabet_train\")[:10])"
   ]
  },
  {
   "cell_type": "code",
   "execution_count": 54,
   "id": "cbeec7f7-a51c-4ddc-94a4-0c78d0b8cb00",
   "metadata": {},
   "outputs": [
    {
     "name": "stdout",
     "output_type": "stream",
     "text": [
      "/Users/cassidymarie/Desktop/ASL_project/asl-backend\n"
     ]
    }
   ],
   "source": [
    "!pwd"
   ]
  },
  {
   "cell_type": "code",
   "execution_count": null,
   "id": "8edda198-4f1b-4f52-9d59-b40b99d3302c",
   "metadata": {},
   "outputs": [],
   "source": []
  }
 ],
 "metadata": {
  "kernelspec": {
   "display_name": "Python (asl-env)",
   "language": "python",
   "name": "asl-env"
  },
  "language_info": {
   "codemirror_mode": {
    "name": "ipython",
    "version": 3
   },
   "file_extension": ".py",
   "mimetype": "text/x-python",
   "name": "python",
   "nbconvert_exporter": "python",
   "pygments_lexer": "ipython3",
   "version": "3.13.5"
  }
 },
 "nbformat": 4,
 "nbformat_minor": 5
}
